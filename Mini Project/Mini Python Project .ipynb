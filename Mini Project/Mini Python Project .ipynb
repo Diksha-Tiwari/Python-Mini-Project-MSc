{
 "cells": [
  {
   "cell_type": "markdown",
   "id": "734589f5",
   "metadata": {},
   "source": [
    "## 1. Recursive Password Generator"
   ]
  },
  {
   "cell_type": "code",
   "execution_count": 1,
   "id": "a3fe963f",
   "metadata": {},
   "outputs": [
    {
     "name": "stdout",
     "output_type": "stream",
     "text": [
      " [?] Enter a length for your password (e for exit): 10\n",
      "' {xx6c3_M!_ '\n",
      "\n",
      " [?] Enter a length for your password (e for exit): 10\n",
      "' Y7`p8 2?oJ '\n",
      "\n",
      " [?] Enter a length for your password (e for exit): 10\n",
      "' FScF}Bn_RC '\n",
      "\n",
      " [?] Enter a length for your password (e for exit): 10\n",
      "' XSFKcP.3vQ '\n",
      "\n",
      " [?] Enter a length for your password (e for exit): E\n",
      "Please Enter an integer\n",
      " [?] Enter a length for your password (e for exit): e\n"
     ]
    }
   ],
   "source": [
    "import random\n",
    "import string\n",
    "\n",
    "def stretch(text,maxlength):\n",
    "    if len(text) < maxlength:\n",
    "        randomChar = get_random_char()\n",
    "        return stretch(text+randomChar,maxlength)\n",
    "    else:\n",
    "        return text\n",
    "\n",
    "def get_random_char():\n",
    "    chars = string.printable\n",
    "    randomChar = chars[random.randint(0,len(chars)-1)]\n",
    "    return randomChar\n",
    "\n",
    "while 1:\n",
    "    maxlen = input(' [?] Enter a length for your password (e for exit): ')\n",
    "    try:\n",
    "        maxlength = int(maxlen)\n",
    "        print(\"'\",stretch('',maxlength),\"'\\n\")\n",
    "    except:\n",
    "        if maxlen == 'e':\n",
    "            break\n",
    "        print('Please Enter an integer')"
   ]
  },
  {
   "cell_type": "code",
   "execution_count": null,
   "id": "c126326e",
   "metadata": {},
   "outputs": [],
   "source": []
  },
  {
   "cell_type": "markdown",
   "id": "06e234ed",
   "metadata": {},
   "source": [
    "## 2.Check Website Connectivity"
   ]
  },
  {
   "cell_type": "code",
   "execution_count": 11,
   "id": "40578062",
   "metadata": {},
   "outputs": [
    {
     "name": "stdout",
     "output_type": "stream",
     "text": [
      "Internet On\n"
     ]
    },
    {
     "data": {
      "text/plain": [
       "True"
      ]
     },
     "execution_count": 11,
     "metadata": {},
     "output_type": "execute_result"
    }
   ],
   "source": [
    "import http.client as httplib\n",
    "  \n",
    "  \n",
    "# function to check internet connectivity\n",
    "def checkInternetHttplib(url=\"www.youtube.com\", timeout=3):\n",
    "    connection = httplib.HTTPConnection(url, timeout=timeout)\n",
    "    try:\n",
    "        # only header requested for fast operation\n",
    "        connection.request(\"HEAD\", \"/\")\n",
    "        connection.close()  # connection closed\n",
    "        print(\"Internet On\")\n",
    "        return True\n",
    "    except Exception as exep:\n",
    "        print(exep)\n",
    "        return False\n",
    "  \n",
    "  \n",
    "checkInternetHttplib(\"www.youtube.com\", 3)"
   ]
  },
  {
   "cell_type": "code",
   "execution_count": 13,
   "id": "256efed2",
   "metadata": {},
   "outputs": [
    {
     "name": "stdout",
     "output_type": "stream",
     "text": [
      "Internet is on\n"
     ]
    }
   ],
   "source": [
    "import requests\n",
    "  \n",
    "# initializing URL\n",
    "url = \"https://www.youtube.com/\"\n",
    "timeout = 10\n",
    "try:\n",
    "    # requesting URL\n",
    "    request = requests.get(url, timeout=timeout)\n",
    "    print(\"Internet is on\")\n",
    "  \n",
    "# catching exception\n",
    "except (requests.ConnectionError, requests.Timeout) as exception:\n",
    "    print(\"Internet is off\")"
   ]
  },
  {
   "cell_type": "code",
   "execution_count": null,
   "id": "20b55e82",
   "metadata": {},
   "outputs": [],
   "source": []
  }
 ],
 "metadata": {
  "kernelspec": {
   "display_name": "Python 3 (ipykernel)",
   "language": "python",
   "name": "python3"
  },
  "language_info": {
   "codemirror_mode": {
    "name": "ipython",
    "version": 3
   },
   "file_extension": ".py",
   "mimetype": "text/x-python",
   "name": "python",
   "nbconvert_exporter": "python",
   "pygments_lexer": "ipython3",
   "version": "3.9.7"
  }
 },
 "nbformat": 4,
 "nbformat_minor": 5
}
